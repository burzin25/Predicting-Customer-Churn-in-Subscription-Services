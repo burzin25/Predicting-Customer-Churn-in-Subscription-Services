{
 "cells": [
  {
   "cell_type": "code",
   "execution_count": 1,
   "id": "7aec30b0",
   "metadata": {},
   "outputs": [],
   "source": [
    "import pandas as pd"
   ]
  },
  {
   "cell_type": "code",
   "execution_count": 2,
   "id": "36867164",
   "metadata": {},
   "outputs": [],
   "source": [
    "def read_csv_files(file_paths):\n",
    "    \"\"\"\n",
    "    Read multiple CSV files into a dictionary of DataFrames.\n",
    "\n",
    "    Args:\n",
    "        file_paths (dict): A dictionary containing file paths with keys as DataFrame names.\n",
    "\n",
    "    Returns:\n",
    "        dict: A dictionary containing DataFrames with keys as DataFrame names.\n",
    "    \"\"\"\n",
    "    data_frames = {}\n",
    "    for name, path in file_paths.items():\n",
    "        data_frames[name] = pd.read_csv(path)\n",
    "    return data_frames"
   ]
  },
  {
   "cell_type": "code",
   "execution_count": 56,
   "id": "6add3cea",
   "metadata": {},
   "outputs": [],
   "source": [
    "file_paths = {\n",
    "    \"members\": \"data/members_v3.csv\",\n",
    "    \"train\": \"data/train_v2.csv\",\n",
    "    \"transactions\": \"data/transactions_v2.csv\",\n",
    "    \"logs\": \"data/user_logs_v2.csv\"\n",
    "}"
   ]
  },
  {
   "cell_type": "code",
   "execution_count": 57,
   "id": "3bef324b",
   "metadata": {},
   "outputs": [],
   "source": [
    "data_frames = read_csv_files(file_paths)\n",
    "\n",
    "# Access individual DataFrames\n",
    "members_v3 = data_frames[\"members\"]\n",
    "train_v2 = data_frames[\"train\"]\n",
    "transactions_v2 = data_frames[\"transactions\"]\n",
    "user_logs_v2 = data_frames[\"logs\"]"
   ]
  },
  {
   "cell_type": "markdown",
   "id": "b1ad5b7c",
   "metadata": {},
   "source": [
    "## Compressing members_df"
   ]
  },
  {
   "cell_type": "code",
   "execution_count": 16,
   "id": "55169aff",
   "metadata": {},
   "outputs": [
    {
     "name": "stdout",
     "output_type": "stream",
     "text": [
      "<class 'pandas.core.frame.DataFrame'>\n",
      "RangeIndex: 6769473 entries, 0 to 6769472\n",
      "Data columns (total 6 columns):\n",
      " #   Column                  Dtype \n",
      "---  ------                  ----- \n",
      " 0   msno                    object\n",
      " 1   city                    int64 \n",
      " 2   bd                      int64 \n",
      " 3   gender                  object\n",
      " 4   registered_via          int64 \n",
      " 5   registration_init_time  int64 \n",
      "dtypes: int64(4), object(2)\n",
      "memory usage: 309.9+ MB\n"
     ]
    }
   ],
   "source": [
    "members_v3.info()"
   ]
  },
  {
   "cell_type": "code",
   "execution_count": 17,
   "id": "bbf40596",
   "metadata": {},
   "outputs": [],
   "source": [
    "members_v3.dropna(inplace=True)"
   ]
  },
  {
   "cell_type": "code",
   "execution_count": 18,
   "id": "0f54e682",
   "metadata": {},
   "outputs": [
    {
     "name": "stdout",
     "output_type": "stream",
     "text": [
      "<class 'pandas.core.frame.DataFrame'>\n",
      "Index: 2339968 entries, 4 to 6769470\n",
      "Data columns (total 6 columns):\n",
      " #   Column                  Dtype \n",
      "---  ------                  ----- \n",
      " 0   msno                    object\n",
      " 1   city                    int64 \n",
      " 2   bd                      int64 \n",
      " 3   gender                  object\n",
      " 4   registered_via          int64 \n",
      " 5   registration_init_time  int64 \n",
      "dtypes: int64(4), object(2)\n",
      "memory usage: 125.0+ MB\n"
     ]
    }
   ],
   "source": [
    "members_v3.info()"
   ]
  },
  {
   "cell_type": "code",
   "execution_count": 19,
   "id": "933141bc",
   "metadata": {},
   "outputs": [
    {
     "name": "stdout",
     "output_type": "stream",
     "text": [
      "msno                       object\n",
      "city                      float32\n",
      "bd                        float32\n",
      "gender                     object\n",
      "registered_via            float32\n",
      "registration_init_time    float32\n",
      "dtype: object\n"
     ]
    }
   ],
   "source": [
    "# Assuming members_df is your DataFrame\n",
    "# Convert integer columns to float32\n",
    "integer_cols = ['city', 'bd', 'registered_via', 'registration_init_time']\n",
    "members_v3[integer_cols] = members_v3[integer_cols].astype('float32')\n",
    "\n",
    "# Convert object columns to float32 if possible\n",
    "for col in members_v3.select_dtypes(include=['object']).columns:\n",
    "    try:\n",
    "        members_v3[col] = members_v3[col].astype('float32')\n",
    "    except ValueError:\n",
    "        pass  # Cannot convert to float, leave it as object\n",
    "\n",
    "# Check the data types after conversion\n",
    "print(members_v3.dtypes)\n"
   ]
  },
  {
   "cell_type": "code",
   "execution_count": 20,
   "id": "3eb51387",
   "metadata": {},
   "outputs": [
    {
     "name": "stdout",
     "output_type": "stream",
     "text": [
      "<class 'pandas.core.frame.DataFrame'>\n",
      "Index: 2339968 entries, 4 to 6769470\n",
      "Data columns (total 6 columns):\n",
      " #   Column                  Dtype  \n",
      "---  ------                  -----  \n",
      " 0   msno                    object \n",
      " 1   city                    float32\n",
      " 2   bd                      float32\n",
      " 3   gender                  object \n",
      " 4   registered_via          float32\n",
      " 5   registration_init_time  float32\n",
      "dtypes: float32(4), object(2)\n",
      "memory usage: 89.3+ MB\n"
     ]
    }
   ],
   "source": [
    "members_v3.info()"
   ]
  },
  {
   "cell_type": "code",
   "execution_count": 21,
   "id": "593c6f39",
   "metadata": {},
   "outputs": [],
   "source": [
    "# Define the file path\n",
    "file_path = 'data/members_v3.csv.gz'\n",
    "\n",
    "# Export DataFrame to CSV file with gzip compression\n",
    "members_v3.to_csv(file_path, index=False, compression='gzip')\n"
   ]
  },
  {
   "cell_type": "markdown",
   "id": "91758e26",
   "metadata": {},
   "source": [
    "## Compressing train_v2"
   ]
  },
  {
   "cell_type": "code",
   "execution_count": 22,
   "id": "54c25026",
   "metadata": {},
   "outputs": [
    {
     "name": "stdout",
     "output_type": "stream",
     "text": [
      "<class 'pandas.core.frame.DataFrame'>\n",
      "RangeIndex: 970960 entries, 0 to 970959\n",
      "Data columns (total 2 columns):\n",
      " #   Column    Non-Null Count   Dtype \n",
      "---  ------    --------------   ----- \n",
      " 0   msno      970960 non-null  object\n",
      " 1   is_churn  970960 non-null  int64 \n",
      "dtypes: int64(1), object(1)\n",
      "memory usage: 14.8+ MB\n"
     ]
    }
   ],
   "source": [
    "train_v2.info()"
   ]
  },
  {
   "cell_type": "code",
   "execution_count": 31,
   "id": "b85570f3",
   "metadata": {},
   "outputs": [],
   "source": [
    "# Define the file path\n",
    "file_path = 'data/train_v2.csv.gz'\n",
    "\n",
    "# Export DataFrame to CSV file with gzip compression\n",
    "train_v2.to_csv(file_path, index=False, compression='gzip')"
   ]
  },
  {
   "cell_type": "markdown",
   "id": "2c3d885d",
   "metadata": {},
   "source": [
    "## ## Compressing transactions_v2"
   ]
  },
  {
   "cell_type": "code",
   "execution_count": 24,
   "id": "cff88db7",
   "metadata": {},
   "outputs": [
    {
     "name": "stdout",
     "output_type": "stream",
     "text": [
      "<class 'pandas.core.frame.DataFrame'>\n",
      "RangeIndex: 1431009 entries, 0 to 1431008\n",
      "Data columns (total 9 columns):\n",
      " #   Column                  Non-Null Count    Dtype \n",
      "---  ------                  --------------    ----- \n",
      " 0   msno                    1431009 non-null  object\n",
      " 1   payment_method_id       1431009 non-null  int64 \n",
      " 2   payment_plan_days       1431009 non-null  int64 \n",
      " 3   plan_list_price         1431009 non-null  int64 \n",
      " 4   actual_amount_paid      1431009 non-null  int64 \n",
      " 5   is_auto_renew           1431009 non-null  int64 \n",
      " 6   transaction_date        1431009 non-null  int64 \n",
      " 7   membership_expire_date  1431009 non-null  int64 \n",
      " 8   is_cancel               1431009 non-null  int64 \n",
      "dtypes: int64(8), object(1)\n",
      "memory usage: 98.3+ MB\n"
     ]
    }
   ],
   "source": [
    "transactions_v2.info()"
   ]
  },
  {
   "cell_type": "code",
   "execution_count": 27,
   "id": "4cd36f5d",
   "metadata": {},
   "outputs": [],
   "source": [
    "transactions_v2.dropna(inplace=True)"
   ]
  },
  {
   "cell_type": "code",
   "execution_count": 28,
   "id": "40fcbc11",
   "metadata": {},
   "outputs": [
    {
     "name": "stdout",
     "output_type": "stream",
     "text": [
      "<class 'pandas.core.frame.DataFrame'>\n",
      "RangeIndex: 1431009 entries, 0 to 1431008\n",
      "Data columns (total 9 columns):\n",
      " #   Column                  Non-Null Count    Dtype \n",
      "---  ------                  --------------    ----- \n",
      " 0   msno                    1431009 non-null  object\n",
      " 1   payment_method_id       1431009 non-null  int64 \n",
      " 2   payment_plan_days       1431009 non-null  int64 \n",
      " 3   plan_list_price         1431009 non-null  int64 \n",
      " 4   actual_amount_paid      1431009 non-null  int64 \n",
      " 5   is_auto_renew           1431009 non-null  int64 \n",
      " 6   transaction_date        1431009 non-null  int64 \n",
      " 7   membership_expire_date  1431009 non-null  int64 \n",
      " 8   is_cancel               1431009 non-null  int64 \n",
      "dtypes: int64(8), object(1)\n",
      "memory usage: 98.3+ MB\n"
     ]
    }
   ],
   "source": [
    "transactions_v2.info()"
   ]
  },
  {
   "cell_type": "code",
   "execution_count": 29,
   "id": "16d86d45",
   "metadata": {},
   "outputs": [
    {
     "name": "stdout",
     "output_type": "stream",
     "text": [
      "msno                       object\n",
      "payment_method_id         float32\n",
      "payment_plan_days         float32\n",
      "plan_list_price           float32\n",
      "actual_amount_paid        float32\n",
      "is_auto_renew             float32\n",
      "transaction_date          float32\n",
      "membership_expire_date    float32\n",
      "is_cancel                 float32\n",
      "dtype: object\n"
     ]
    }
   ],
   "source": [
    "# Assuming transactions_v2 is your DataFrame\n",
    "\n",
    "# Convert integer columns to float32\n",
    "integer_cols = transactions_v2.select_dtypes(include=['int64']).columns\n",
    "transactions_v2[integer_cols] = transactions_v2[integer_cols].astype('float32')\n",
    "\n",
    "# Convert other numerical columns to float32\n",
    "numerical_cols = transactions_v2.select_dtypes(exclude=['object']).columns\n",
    "for col in numerical_cols:\n",
    "    if col not in integer_cols:  # Skip columns already converted to float32\n",
    "        transactions_v2[col] = transactions_v2[col].astype('float32')\n",
    "\n",
    "# Check the data types after conversion\n",
    "print(transactions_v2.dtypes)\n"
   ]
  },
  {
   "cell_type": "code",
   "execution_count": 30,
   "id": "4efee891",
   "metadata": {},
   "outputs": [
    {
     "name": "stdout",
     "output_type": "stream",
     "text": [
      "<class 'pandas.core.frame.DataFrame'>\n",
      "RangeIndex: 1431009 entries, 0 to 1431008\n",
      "Data columns (total 9 columns):\n",
      " #   Column                  Non-Null Count    Dtype  \n",
      "---  ------                  --------------    -----  \n",
      " 0   msno                    1431009 non-null  object \n",
      " 1   payment_method_id       1431009 non-null  float32\n",
      " 2   payment_plan_days       1431009 non-null  float32\n",
      " 3   plan_list_price         1431009 non-null  float32\n",
      " 4   actual_amount_paid      1431009 non-null  float32\n",
      " 5   is_auto_renew           1431009 non-null  float32\n",
      " 6   transaction_date        1431009 non-null  float32\n",
      " 7   membership_expire_date  1431009 non-null  float32\n",
      " 8   is_cancel               1431009 non-null  float32\n",
      "dtypes: float32(8), object(1)\n",
      "memory usage: 54.6+ MB\n"
     ]
    }
   ],
   "source": [
    "transactions_v2.info()"
   ]
  },
  {
   "cell_type": "code",
   "execution_count": 32,
   "id": "24f38900",
   "metadata": {},
   "outputs": [],
   "source": [
    "# Define the file path\n",
    "file_path = 'data/transactions_v2.csv.gz'\n",
    "\n",
    "# Export DataFrame to CSV file with gzip compression\n",
    "transactions_v2.to_csv(file_path, index=False, compression='gzip')"
   ]
  },
  {
   "cell_type": "markdown",
   "id": "58eb810d",
   "metadata": {},
   "source": [
    "## ## Compressing user_logs_v2"
   ]
  },
  {
   "cell_type": "code",
   "execution_count": 58,
   "id": "cc45a3f1",
   "metadata": {},
   "outputs": [
    {
     "name": "stdout",
     "output_type": "stream",
     "text": [
      "<class 'pandas.core.frame.DataFrame'>\n",
      "RangeIndex: 18396362 entries, 0 to 18396361\n",
      "Data columns (total 9 columns):\n",
      " #   Column      Dtype  \n",
      "---  ------      -----  \n",
      " 0   msno        object \n",
      " 1   date        int64  \n",
      " 2   num_25      int64  \n",
      " 3   num_50      int64  \n",
      " 4   num_75      int64  \n",
      " 5   num_985     int64  \n",
      " 6   num_100     int64  \n",
      " 7   num_unq     int64  \n",
      " 8   total_secs  float64\n",
      "dtypes: float64(1), int64(7), object(1)\n",
      "memory usage: 1.2+ GB\n"
     ]
    }
   ],
   "source": [
    "user_logs_v2.info()"
   ]
  },
  {
   "cell_type": "code",
   "execution_count": 59,
   "id": "abd9fa35",
   "metadata": {},
   "outputs": [],
   "source": [
    "user_logs_v2.dropna(inplace=True)"
   ]
  },
  {
   "cell_type": "code",
   "execution_count": 60,
   "id": "f533872b",
   "metadata": {},
   "outputs": [
    {
     "name": "stdout",
     "output_type": "stream",
     "text": [
      "<class 'pandas.core.frame.DataFrame'>\n",
      "RangeIndex: 18396362 entries, 0 to 18396361\n",
      "Data columns (total 9 columns):\n",
      " #   Column      Dtype  \n",
      "---  ------      -----  \n",
      " 0   msno        object \n",
      " 1   date        int64  \n",
      " 2   num_25      int64  \n",
      " 3   num_50      int64  \n",
      " 4   num_75      int64  \n",
      " 5   num_985     int64  \n",
      " 6   num_100     int64  \n",
      " 7   num_unq     int64  \n",
      " 8   total_secs  float64\n",
      "dtypes: float64(1), int64(7), object(1)\n",
      "memory usage: 1.2+ GB\n"
     ]
    }
   ],
   "source": [
    "user_logs_v2.info()"
   ]
  },
  {
   "cell_type": "code",
   "execution_count": 61,
   "id": "379a3122",
   "metadata": {},
   "outputs": [
    {
     "name": "stdout",
     "output_type": "stream",
     "text": [
      "msno           object\n",
      "date          float32\n",
      "num_25        float32\n",
      "num_50        float32\n",
      "num_75        float32\n",
      "num_985       float32\n",
      "num_100       float32\n",
      "num_unq       float32\n",
      "total_secs    float32\n",
      "dtype: object\n"
     ]
    }
   ],
   "source": [
    "# Convert all numerical columns to float32\n",
    "numerical_cols = user_logs_v2.select_dtypes(include=['int64', 'float64']).columns\n",
    "user_logs_v2[numerical_cols] = user_logs_v2[numerical_cols].astype('float32')\n",
    "\n",
    "# Check the data types after conversion\n",
    "print(user_logs_v2.dtypes)\n"
   ]
  },
  {
   "cell_type": "code",
   "execution_count": 62,
   "id": "afb02b95",
   "metadata": {},
   "outputs": [
    {
     "name": "stdout",
     "output_type": "stream",
     "text": [
      "<class 'pandas.core.frame.DataFrame'>\n",
      "RangeIndex: 18396362 entries, 0 to 18396361\n",
      "Data columns (total 9 columns):\n",
      " #   Column      Dtype  \n",
      "---  ------      -----  \n",
      " 0   msno        object \n",
      " 1   date        float32\n",
      " 2   num_25      float32\n",
      " 3   num_50      float32\n",
      " 4   num_75      float32\n",
      " 5   num_985     float32\n",
      " 6   num_100     float32\n",
      " 7   num_unq     float32\n",
      " 8   total_secs  float32\n",
      "dtypes: float32(8), object(1)\n",
      "memory usage: 701.8+ MB\n"
     ]
    }
   ],
   "source": [
    "user_logs_v2.info()"
   ]
  },
  {
   "cell_type": "code",
   "execution_count": 63,
   "id": "0257f7a0",
   "metadata": {},
   "outputs": [],
   "source": [
    "# Columns to drop\n",
    "columns_to_drop = ['num_25', 'num_50', 'num_75', 'num_985', 'num_100']\n",
    "\n",
    "# Drop columns\n",
    "user_logs_v2 = user_logs_v2.drop(columns=columns_to_drop, axis=1)"
   ]
  },
  {
   "cell_type": "code",
   "execution_count": 64,
   "id": "0b9786b8",
   "metadata": {},
   "outputs": [
    {
     "name": "stdout",
     "output_type": "stream",
     "text": [
      "<class 'pandas.core.frame.DataFrame'>\n",
      "RangeIndex: 18396362 entries, 0 to 18396361\n",
      "Data columns (total 4 columns):\n",
      " #   Column      Dtype  \n",
      "---  ------      -----  \n",
      " 0   msno        object \n",
      " 1   date        float32\n",
      " 2   num_unq     float32\n",
      " 3   total_secs  float32\n",
      "dtypes: float32(3), object(1)\n",
      "memory usage: 350.9+ MB\n"
     ]
    }
   ],
   "source": [
    "user_logs_v2.info()"
   ]
  },
  {
   "cell_type": "code",
   "execution_count": 65,
   "id": "e6368e77",
   "metadata": {},
   "outputs": [],
   "source": [
    "user_logs_v2 = train_v2.merge(user_logs_v2, on='msno', how='left')"
   ]
  },
  {
   "cell_type": "code",
   "execution_count": 66,
   "id": "94ecc2dc",
   "metadata": {},
   "outputs": [],
   "source": [
    "user_logs_v2.dropna(inplace=True)"
   ]
  },
  {
   "cell_type": "code",
   "execution_count": 67,
   "id": "f5ae3a56",
   "metadata": {},
   "outputs": [
    {
     "name": "stdout",
     "output_type": "stream",
     "text": [
      "<class 'pandas.core.frame.DataFrame'>\n",
      "Index: 13532944 entries, 0 to 13749351\n",
      "Data columns (total 5 columns):\n",
      " #   Column      Dtype  \n",
      "---  ------      -----  \n",
      " 0   msno        object \n",
      " 1   is_churn    int64  \n",
      " 2   date        float32\n",
      " 3   num_unq     float32\n",
      " 4   total_secs  float32\n",
      "dtypes: float32(3), int64(1), object(1)\n",
      "memory usage: 464.6+ MB\n"
     ]
    }
   ],
   "source": [
    "user_logs_v2.info()"
   ]
  },
  {
   "cell_type": "code",
   "execution_count": 70,
   "id": "6bf9c39a",
   "metadata": {},
   "outputs": [],
   "source": [
    "# Undersample the DataFrame by 70%\n",
    "undersampled_user_logs_v2 = user_logs_v2.sample(frac=0.15, random_state=42)\n"
   ]
  },
  {
   "cell_type": "code",
   "execution_count": 71,
   "id": "5608b9ad",
   "metadata": {},
   "outputs": [
    {
     "name": "stdout",
     "output_type": "stream",
     "text": [
      "<class 'pandas.core.frame.DataFrame'>\n",
      "Index: 2029942 entries, 7056252 to 8241382\n",
      "Data columns (total 5 columns):\n",
      " #   Column      Dtype  \n",
      "---  ------      -----  \n",
      " 0   msno        object \n",
      " 1   is_churn    int64  \n",
      " 2   date        float32\n",
      " 3   num_unq     float32\n",
      " 4   total_secs  float32\n",
      "dtypes: float32(3), int64(1), object(1)\n",
      "memory usage: 69.7+ MB\n"
     ]
    }
   ],
   "source": [
    "undersampled_user_logs_v2.info()"
   ]
  },
  {
   "cell_type": "code",
   "execution_count": 73,
   "id": "1a988b9c",
   "metadata": {},
   "outputs": [],
   "source": [
    "# Define the file path\n",
    "file_path = 'data/user_logs_v2.csv.gz'\n",
    "\n",
    "# Export DataFrame to CSV file with gzip compression\n",
    "undersampled_user_logs_v2.to_csv(file_path, index=False, compression='gzip')"
   ]
  }
 ],
 "metadata": {
  "kernelspec": {
   "display_name": "Python 3 (ipykernel)",
   "language": "python",
   "name": "python3"
  },
  "language_info": {
   "codemirror_mode": {
    "name": "ipython",
    "version": 3
   },
   "file_extension": ".py",
   "mimetype": "text/x-python",
   "name": "python",
   "nbconvert_exporter": "python",
   "pygments_lexer": "ipython3",
   "version": "3.9.13"
  }
 },
 "nbformat": 4,
 "nbformat_minor": 5
}
